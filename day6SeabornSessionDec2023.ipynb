{
  "cells": [
    {
      "cell_type": "markdown",
      "metadata": {
        "id": "view-in-github",
        "colab_type": "text"
      },
      "source": [
        "<a href=\"https://colab.research.google.com/github/vanimkv28/Project1/blob/main/day6SeabornSessionDec2023.ipynb\" target=\"_parent\"><img src=\"https://colab.research.google.com/assets/colab-badge.svg\" alt=\"Open In Colab\"/></a>"
      ]
    },
    {
      "cell_type": "code",
      "execution_count": null,
      "id": "34e3d5ce",
      "metadata": {
        "id": "34e3d5ce"
      },
      "outputs": [],
      "source": [
        "#pip install seaborn"
      ]
    },
    {
      "cell_type": "markdown",
      "source": [
        "Setup"
      ],
      "metadata": {
        "id": "-BWRwxJ-Hq-I"
      },
      "id": "-BWRwxJ-Hq-I"
    },
    {
      "cell_type": "code",
      "source": [
        "import seaborn as sns\n",
        "import pandas as pd\n",
        "import numpy as np\n",
        "import matplotlib.pyplot as plt\n",
        "# importing matplotlib"
      ],
      "metadata": {
        "id": "rRMJnz6LHjBz"
      },
      "id": "rRMJnz6LHjBz",
      "execution_count": null,
      "outputs": []
    },
    {
      "cell_type": "code",
      "source": [
        "print(sns.get_dataset_names())"
      ],
      "metadata": {
        "id": "4cn0k5vwHx4q"
      },
      "id": "4cn0k5vwHx4q",
      "execution_count": null,
      "outputs": []
    },
    {
      "cell_type": "markdown",
      "source": [
        "Import **Data**"
      ],
      "metadata": {
        "id": "Xu9Fe8hIHy70"
      },
      "id": "Xu9Fe8hIHy70"
    },
    {
      "cell_type": "code",
      "source": [
        "crash_df=sns.load_dataset(\"car_crashes\")\n",
        "crash_df.head(10)"
      ],
      "metadata": {
        "id": "7boC7irxHm-6"
      },
      "id": "7boC7irxHm-6",
      "execution_count": null,
      "outputs": []
    },
    {
      "cell_type": "markdown",
      "source": [
        "#Distribution Plots"
      ],
      "metadata": {
        "id": "RiAJzRHjIStR"
      },
      "id": "RiAJzRHjIStR"
    },
    {
      "cell_type": "code",
      "source": [
        "sns.displot(crash_df['not_distracted'])"
      ],
      "metadata": {
        "id": "bAzGsYdCHnDh"
      },
      "id": "bAzGsYdCHnDh",
      "execution_count": null,
      "outputs": []
    },
    {
      "cell_type": "markdown",
      "source": [
        "Histogram Plot"
      ],
      "metadata": {
        "id": "yMpvsYorI1-a"
      },
      "id": "yMpvsYorI1-a"
    },
    {
      "cell_type": "code",
      "source": [
        "#A histogram is a graph showing frequency distributions.\n",
        "#It is a graph showing the number of observations within each given interval."
      ],
      "metadata": {
        "id": "PKm6_En6HnHr"
      },
      "id": "PKm6_En6HnHr",
      "execution_count": null,
      "outputs": []
    },
    {
      "cell_type": "code",
      "source": [
        "sns.displot(crash_df['not_distracted'], kde=False, bins=20)"
      ],
      "metadata": {
        "id": "vbx_yo5zHnL9"
      },
      "id": "vbx_yo5zHnL9",
      "execution_count": null,
      "outputs": []
    },
    {
      "cell_type": "markdown",
      "source": [
        "Joint Plot"
      ],
      "metadata": {
        "id": "hA7onyHLJc-t"
      },
      "id": "hA7onyHLJc-t"
    },
    {
      "cell_type": "code",
      "source": [
        "#The joint plot is a way of understanding the relationship between two variables\n",
        "#and the distribution of individuals of each variable."
      ],
      "metadata": {
        "id": "9ASsXheRJMNm"
      },
      "id": "9ASsXheRJMNm",
      "execution_count": null,
      "outputs": []
    },
    {
      "cell_type": "code",
      "source": [
        "#sns.jointplot(data=crash_df, x= 'speeding',y='alcohol')\n",
        "#sns.jointplot(data=crash_df, x= 'speeding',y='alcohol', kind= 'kde', cmap='Reds',shade=False)\n",
        "#sns.jointplot(data=crash_df, x= 'speeding',y='alcohol',kind= 'hex',color='red')"
      ],
      "metadata": {
        "id": "yBhtzJdVJMSS"
      },
      "id": "yBhtzJdVJMSS",
      "execution_count": null,
      "outputs": []
    },
    {
      "cell_type": "markdown",
      "source": [
        "KDE (Kernel Density Estimation) Plot"
      ],
      "metadata": {
        "id": "xZBEl7ykLlJw"
      },
      "id": "xZBEl7ykLlJw"
    },
    {
      "cell_type": "code",
      "source": [
        "#A kernel density estimate (KDE) plot is a method for visualizing the distribution of observations in a dataset.\n",
        "#KDE represents the data using a continuous probability density curve in one or more dimensions."
      ],
      "metadata": {
        "id": "o6a6fXqpJMXd"
      },
      "id": "o6a6fXqpJMXd",
      "execution_count": null,
      "outputs": []
    },
    {
      "cell_type": "code",
      "source": [
        "sns.kdeplot(crash_df['alcohol'])\n"
      ],
      "metadata": {
        "id": "e4GgXa_-JMy0"
      },
      "id": "e4GgXa_-JMy0",
      "execution_count": null,
      "outputs": []
    },
    {
      "cell_type": "markdown",
      "source": [
        "ECDF"
      ],
      "metadata": {
        "id": "LxbxA2j7Magr"
      },
      "id": "LxbxA2j7Magr"
    },
    {
      "cell_type": "code",
      "source": [
        "#The ECDF essentially allows you to plot a feature of your data in order from least to greatest and see the whole feature\n",
        "#as if is distributed across the data set"
      ],
      "metadata": {
        "id": "WwVosMp9JM8h"
      },
      "id": "WwVosMp9JM8h",
      "execution_count": null,
      "outputs": []
    },
    {
      "cell_type": "code",
      "source": [
        "# Loading Data set\n",
        "tips=sns.load_dataset(\"tips\")\n",
        "tips.head()"
      ],
      "metadata": {
        "colab": {
          "base_uri": "https://localhost:8080/",
          "height": 206
        },
        "id": "Z-AzzoCnJNBJ",
        "outputId": "ce819866-dae9-418e-b68d-302e18807a66"
      },
      "id": "Z-AzzoCnJNBJ",
      "execution_count": null,
      "outputs": [
        {
          "output_type": "execute_result",
          "data": {
            "text/plain": [
              "   total_bill   tip     sex smoker  day    time  size\n",
              "0       16.99  1.01  Female     No  Sun  Dinner     2\n",
              "1       10.34  1.66    Male     No  Sun  Dinner     3\n",
              "2       21.01  3.50    Male     No  Sun  Dinner     3\n",
              "3       23.68  3.31    Male     No  Sun  Dinner     2\n",
              "4       24.59  3.61  Female     No  Sun  Dinner     4"
            ],
            "text/html": [
              "\n",
              "  <div id=\"df-6615c2d4-5191-4fac-84ff-8075419d52a8\" class=\"colab-df-container\">\n",
              "    <div>\n",
              "<style scoped>\n",
              "    .dataframe tbody tr th:only-of-type {\n",
              "        vertical-align: middle;\n",
              "    }\n",
              "\n",
              "    .dataframe tbody tr th {\n",
              "        vertical-align: top;\n",
              "    }\n",
              "\n",
              "    .dataframe thead th {\n",
              "        text-align: right;\n",
              "    }\n",
              "</style>\n",
              "<table border=\"1\" class=\"dataframe\">\n",
              "  <thead>\n",
              "    <tr style=\"text-align: right;\">\n",
              "      <th></th>\n",
              "      <th>total_bill</th>\n",
              "      <th>tip</th>\n",
              "      <th>sex</th>\n",
              "      <th>smoker</th>\n",
              "      <th>day</th>\n",
              "      <th>time</th>\n",
              "      <th>size</th>\n",
              "    </tr>\n",
              "  </thead>\n",
              "  <tbody>\n",
              "    <tr>\n",
              "      <th>0</th>\n",
              "      <td>16.99</td>\n",
              "      <td>1.01</td>\n",
              "      <td>Female</td>\n",
              "      <td>No</td>\n",
              "      <td>Sun</td>\n",
              "      <td>Dinner</td>\n",
              "      <td>2</td>\n",
              "    </tr>\n",
              "    <tr>\n",
              "      <th>1</th>\n",
              "      <td>10.34</td>\n",
              "      <td>1.66</td>\n",
              "      <td>Male</td>\n",
              "      <td>No</td>\n",
              "      <td>Sun</td>\n",
              "      <td>Dinner</td>\n",
              "      <td>3</td>\n",
              "    </tr>\n",
              "    <tr>\n",
              "      <th>2</th>\n",
              "      <td>21.01</td>\n",
              "      <td>3.50</td>\n",
              "      <td>Male</td>\n",
              "      <td>No</td>\n",
              "      <td>Sun</td>\n",
              "      <td>Dinner</td>\n",
              "      <td>3</td>\n",
              "    </tr>\n",
              "    <tr>\n",
              "      <th>3</th>\n",
              "      <td>23.68</td>\n",
              "      <td>3.31</td>\n",
              "      <td>Male</td>\n",
              "      <td>No</td>\n",
              "      <td>Sun</td>\n",
              "      <td>Dinner</td>\n",
              "      <td>2</td>\n",
              "    </tr>\n",
              "    <tr>\n",
              "      <th>4</th>\n",
              "      <td>24.59</td>\n",
              "      <td>3.61</td>\n",
              "      <td>Female</td>\n",
              "      <td>No</td>\n",
              "      <td>Sun</td>\n",
              "      <td>Dinner</td>\n",
              "      <td>4</td>\n",
              "    </tr>\n",
              "  </tbody>\n",
              "</table>\n",
              "</div>\n",
              "    <div class=\"colab-df-buttons\">\n",
              "\n",
              "  <div class=\"colab-df-container\">\n",
              "    <button class=\"colab-df-convert\" onclick=\"convertToInteractive('df-6615c2d4-5191-4fac-84ff-8075419d52a8')\"\n",
              "            title=\"Convert this dataframe to an interactive table.\"\n",
              "            style=\"display:none;\">\n",
              "\n",
              "  <svg xmlns=\"http://www.w3.org/2000/svg\" height=\"24px\" viewBox=\"0 -960 960 960\">\n",
              "    <path d=\"M120-120v-720h720v720H120Zm60-500h600v-160H180v160Zm220 220h160v-160H400v160Zm0 220h160v-160H400v160ZM180-400h160v-160H180v160Zm440 0h160v-160H620v160ZM180-180h160v-160H180v160Zm440 0h160v-160H620v160Z\"/>\n",
              "  </svg>\n",
              "    </button>\n",
              "\n",
              "  <style>\n",
              "    .colab-df-container {\n",
              "      display:flex;\n",
              "      gap: 12px;\n",
              "    }\n",
              "\n",
              "    .colab-df-convert {\n",
              "      background-color: #E8F0FE;\n",
              "      border: none;\n",
              "      border-radius: 50%;\n",
              "      cursor: pointer;\n",
              "      display: none;\n",
              "      fill: #1967D2;\n",
              "      height: 32px;\n",
              "      padding: 0 0 0 0;\n",
              "      width: 32px;\n",
              "    }\n",
              "\n",
              "    .colab-df-convert:hover {\n",
              "      background-color: #E2EBFA;\n",
              "      box-shadow: 0px 1px 2px rgba(60, 64, 67, 0.3), 0px 1px 3px 1px rgba(60, 64, 67, 0.15);\n",
              "      fill: #174EA6;\n",
              "    }\n",
              "\n",
              "    .colab-df-buttons div {\n",
              "      margin-bottom: 4px;\n",
              "    }\n",
              "\n",
              "    [theme=dark] .colab-df-convert {\n",
              "      background-color: #3B4455;\n",
              "      fill: #D2E3FC;\n",
              "    }\n",
              "\n",
              "    [theme=dark] .colab-df-convert:hover {\n",
              "      background-color: #434B5C;\n",
              "      box-shadow: 0px 1px 3px 1px rgba(0, 0, 0, 0.15);\n",
              "      filter: drop-shadow(0px 1px 2px rgba(0, 0, 0, 0.3));\n",
              "      fill: #FFFFFF;\n",
              "    }\n",
              "  </style>\n",
              "\n",
              "    <script>\n",
              "      const buttonEl =\n",
              "        document.querySelector('#df-6615c2d4-5191-4fac-84ff-8075419d52a8 button.colab-df-convert');\n",
              "      buttonEl.style.display =\n",
              "        google.colab.kernel.accessAllowed ? 'block' : 'none';\n",
              "\n",
              "      async function convertToInteractive(key) {\n",
              "        const element = document.querySelector('#df-6615c2d4-5191-4fac-84ff-8075419d52a8');\n",
              "        const dataTable =\n",
              "          await google.colab.kernel.invokeFunction('convertToInteractive',\n",
              "                                                    [key], {});\n",
              "        if (!dataTable) return;\n",
              "\n",
              "        const docLinkHtml = 'Like what you see? Visit the ' +\n",
              "          '<a target=\"_blank\" href=https://colab.research.google.com/notebooks/data_table.ipynb>data table notebook</a>'\n",
              "          + ' to learn more about interactive tables.';\n",
              "        element.innerHTML = '';\n",
              "        dataTable['output_type'] = 'display_data';\n",
              "        await google.colab.output.renderOutput(dataTable, element);\n",
              "        const docLink = document.createElement('div');\n",
              "        docLink.innerHTML = docLinkHtml;\n",
              "        element.appendChild(docLink);\n",
              "      }\n",
              "    </script>\n",
              "  </div>\n",
              "\n",
              "\n",
              "<div id=\"df-41a83ff8-f57d-4d82-9e48-199f4983ec06\">\n",
              "  <button class=\"colab-df-quickchart\" onclick=\"quickchart('df-41a83ff8-f57d-4d82-9e48-199f4983ec06')\"\n",
              "            title=\"Suggest charts\"\n",
              "            style=\"display:none;\">\n",
              "\n",
              "<svg xmlns=\"http://www.w3.org/2000/svg\" height=\"24px\"viewBox=\"0 0 24 24\"\n",
              "     width=\"24px\">\n",
              "    <g>\n",
              "        <path d=\"M19 3H5c-1.1 0-2 .9-2 2v14c0 1.1.9 2 2 2h14c1.1 0 2-.9 2-2V5c0-1.1-.9-2-2-2zM9 17H7v-7h2v7zm4 0h-2V7h2v10zm4 0h-2v-4h2v4z\"/>\n",
              "    </g>\n",
              "</svg>\n",
              "  </button>\n",
              "\n",
              "<style>\n",
              "  .colab-df-quickchart {\n",
              "      --bg-color: #E8F0FE;\n",
              "      --fill-color: #1967D2;\n",
              "      --hover-bg-color: #E2EBFA;\n",
              "      --hover-fill-color: #174EA6;\n",
              "      --disabled-fill-color: #AAA;\n",
              "      --disabled-bg-color: #DDD;\n",
              "  }\n",
              "\n",
              "  [theme=dark] .colab-df-quickchart {\n",
              "      --bg-color: #3B4455;\n",
              "      --fill-color: #D2E3FC;\n",
              "      --hover-bg-color: #434B5C;\n",
              "      --hover-fill-color: #FFFFFF;\n",
              "      --disabled-bg-color: #3B4455;\n",
              "      --disabled-fill-color: #666;\n",
              "  }\n",
              "\n",
              "  .colab-df-quickchart {\n",
              "    background-color: var(--bg-color);\n",
              "    border: none;\n",
              "    border-radius: 50%;\n",
              "    cursor: pointer;\n",
              "    display: none;\n",
              "    fill: var(--fill-color);\n",
              "    height: 32px;\n",
              "    padding: 0;\n",
              "    width: 32px;\n",
              "  }\n",
              "\n",
              "  .colab-df-quickchart:hover {\n",
              "    background-color: var(--hover-bg-color);\n",
              "    box-shadow: 0 1px 2px rgba(60, 64, 67, 0.3), 0 1px 3px 1px rgba(60, 64, 67, 0.15);\n",
              "    fill: var(--button-hover-fill-color);\n",
              "  }\n",
              "\n",
              "  .colab-df-quickchart-complete:disabled,\n",
              "  .colab-df-quickchart-complete:disabled:hover {\n",
              "    background-color: var(--disabled-bg-color);\n",
              "    fill: var(--disabled-fill-color);\n",
              "    box-shadow: none;\n",
              "  }\n",
              "\n",
              "  .colab-df-spinner {\n",
              "    border: 2px solid var(--fill-color);\n",
              "    border-color: transparent;\n",
              "    border-bottom-color: var(--fill-color);\n",
              "    animation:\n",
              "      spin 1s steps(1) infinite;\n",
              "  }\n",
              "\n",
              "  @keyframes spin {\n",
              "    0% {\n",
              "      border-color: transparent;\n",
              "      border-bottom-color: var(--fill-color);\n",
              "      border-left-color: var(--fill-color);\n",
              "    }\n",
              "    20% {\n",
              "      border-color: transparent;\n",
              "      border-left-color: var(--fill-color);\n",
              "      border-top-color: var(--fill-color);\n",
              "    }\n",
              "    30% {\n",
              "      border-color: transparent;\n",
              "      border-left-color: var(--fill-color);\n",
              "      border-top-color: var(--fill-color);\n",
              "      border-right-color: var(--fill-color);\n",
              "    }\n",
              "    40% {\n",
              "      border-color: transparent;\n",
              "      border-right-color: var(--fill-color);\n",
              "      border-top-color: var(--fill-color);\n",
              "    }\n",
              "    60% {\n",
              "      border-color: transparent;\n",
              "      border-right-color: var(--fill-color);\n",
              "    }\n",
              "    80% {\n",
              "      border-color: transparent;\n",
              "      border-right-color: var(--fill-color);\n",
              "      border-bottom-color: var(--fill-color);\n",
              "    }\n",
              "    90% {\n",
              "      border-color: transparent;\n",
              "      border-bottom-color: var(--fill-color);\n",
              "    }\n",
              "  }\n",
              "</style>\n",
              "\n",
              "  <script>\n",
              "    async function quickchart(key) {\n",
              "      const quickchartButtonEl =\n",
              "        document.querySelector('#' + key + ' button');\n",
              "      quickchartButtonEl.disabled = true;  // To prevent multiple clicks.\n",
              "      quickchartButtonEl.classList.add('colab-df-spinner');\n",
              "      try {\n",
              "        const charts = await google.colab.kernel.invokeFunction(\n",
              "            'suggestCharts', [key], {});\n",
              "      } catch (error) {\n",
              "        console.error('Error during call to suggestCharts:', error);\n",
              "      }\n",
              "      quickchartButtonEl.classList.remove('colab-df-spinner');\n",
              "      quickchartButtonEl.classList.add('colab-df-quickchart-complete');\n",
              "    }\n",
              "    (() => {\n",
              "      let quickchartButtonEl =\n",
              "        document.querySelector('#df-41a83ff8-f57d-4d82-9e48-199f4983ec06 button');\n",
              "      quickchartButtonEl.style.display =\n",
              "        google.colab.kernel.accessAllowed ? 'block' : 'none';\n",
              "    })();\n",
              "  </script>\n",
              "</div>\n",
              "    </div>\n",
              "  </div>\n"
            ]
          },
          "metadata": {},
          "execution_count": 5
        }
      ]
    },
    {
      "cell_type": "markdown",
      "source": [
        "Pair Plot"
      ],
      "metadata": {
        "id": "pCOVH6E2M5mQ"
      },
      "id": "pCOVH6E2M5mQ"
    },
    {
      "cell_type": "code",
      "source": [
        "#A pairplot plot a pairwise relationships in a dataset. The pairplot function creates\n",
        "#a grid of Axes such that each variable in data will by shared in the y-axis across\n",
        "#a single row and in the x-axis across a single column.\n"
      ],
      "metadata": {
        "id": "OSEzO0NGJNGu"
      },
      "id": "OSEzO0NGJNGu",
      "execution_count": null,
      "outputs": []
    },
    {
      "cell_type": "code",
      "source": [
        "#sns.pairplot(crash_df)\n",
        "tips_df=sns.load_dataset('tips')\n",
        "sns.pairplot(tips_df,hue='sex',palette='Blues')"
      ],
      "metadata": {
        "id": "uPozvwQiSBFd"
      },
      "id": "uPozvwQiSBFd",
      "execution_count": null,
      "outputs": []
    },
    {
      "cell_type": "code",
      "source": [],
      "metadata": {
        "id": "v-GYXHWCJNP7"
      },
      "id": "v-GYXHWCJNP7",
      "execution_count": null,
      "outputs": []
    },
    {
      "cell_type": "code",
      "source": [],
      "metadata": {
        "id": "X6pcfYF-NaPK"
      },
      "id": "X6pcfYF-NaPK",
      "execution_count": null,
      "outputs": []
    },
    {
      "cell_type": "code",
      "source": [],
      "metadata": {
        "id": "rkgO3kFcNaVX"
      },
      "id": "rkgO3kFcNaVX",
      "execution_count": null,
      "outputs": []
    },
    {
      "cell_type": "code",
      "source": [],
      "metadata": {
        "id": "pSyauONdNac5"
      },
      "id": "pSyauONdNac5",
      "execution_count": null,
      "outputs": []
    },
    {
      "cell_type": "markdown",
      "id": "ec3e7a8f",
      "metadata": {
        "id": "ec3e7a8f"
      },
      "source": [
        "### Rug Plot"
      ]
    },
    {
      "cell_type": "code",
      "execution_count": null,
      "id": "e2fd7d84",
      "metadata": {
        "id": "e2fd7d84"
      },
      "outputs": [],
      "source": [
        "#Rugplot() method is used to plot marginal distributions and allows to draw ticks along the x and y axes.\n",
        "#By clearly displaying the locations of individual observations, this function is meant to supplement existing displays."
      ]
    },
    {
      "cell_type": "code",
      "source": [
        "sns.rugplot(tips_df['tip'])"
      ],
      "metadata": {
        "id": "2En6NhZOOdoJ"
      },
      "id": "2En6NhZOOdoJ",
      "execution_count": null,
      "outputs": []
    },
    {
      "cell_type": "code",
      "execution_count": null,
      "id": "746afa2a",
      "metadata": {
        "scrolled": false,
        "id": "746afa2a"
      },
      "outputs": [],
      "source": []
    },
    {
      "cell_type": "markdown",
      "id": "4e421f7f",
      "metadata": {
        "id": "4e421f7f"
      },
      "source": [
        "## Categorical Plots"
      ]
    },
    {
      "cell_type": "markdown",
      "id": "6dfb9343",
      "metadata": {
        "id": "6dfb9343"
      },
      "source": [
        "### Bar Plots"
      ]
    },
    {
      "cell_type": "code",
      "execution_count": null,
      "id": "3e29bd00",
      "metadata": {
        "id": "3e29bd00"
      },
      "outputs": [],
      "source": [
        "#The bar plots can be plotted horizontally or vertically.\n",
        "#A bar chart describes the comparisons between the discrete categories\n",
        "#Instead using bar, scatte,rwe can use catplot() and in the kind object, we can choose different plts"
      ]
    },
    {
      "cell_type": "code",
      "source": [
        "sns.barplot(data=tips_df, x='sex', y='total_bill', estimator=np.cov)"
      ],
      "metadata": {
        "id": "2WMnfc7COrXm"
      },
      "id": "2WMnfc7COrXm",
      "execution_count": null,
      "outputs": []
    },
    {
      "cell_type": "markdown",
      "id": "25995cfb",
      "metadata": {
        "id": "25995cfb"
      },
      "source": [
        "### Count Plot"
      ]
    },
    {
      "cell_type": "code",
      "execution_count": null,
      "id": "cbb0d99e",
      "metadata": {
        "id": "cbb0d99e"
      },
      "outputs": [],
      "source": [
        "#countplot method is used to Show the counts of observations in each categorical bin using bars."
      ]
    },
    {
      "cell_type": "code",
      "source": [
        "sns.countplot(data=tips_df,x='sex')"
      ],
      "metadata": {
        "id": "sRufbp9eOwnu"
      },
      "id": "sRufbp9eOwnu",
      "execution_count": null,
      "outputs": []
    },
    {
      "cell_type": "markdown",
      "id": "4a157849",
      "metadata": {
        "id": "4a157849"
      },
      "source": [
        "### Box Plot"
      ]
    },
    {
      "cell_type": "code",
      "execution_count": null,
      "id": "42f0f4b6",
      "metadata": {
        "id": "42f0f4b6"
      },
      "outputs": [],
      "source": [
        "#Boxplots are a measure of how well distributed the data in a data set is.\n",
        "#It divides the data set into three quartiles. This graph represents the\n",
        "#minimum, maximum, median, first quartile and third quartile in the data set."
      ]
    },
    {
      "cell_type": "code",
      "source": [
        "sns.boxplot(data=tips_df,x='day',y='total_bill',hue='sex')"
      ],
      "metadata": {
        "id": "zh0o2DQvO4AN"
      },
      "id": "zh0o2DQvO4AN",
      "execution_count": null,
      "outputs": []
    },
    {
      "cell_type": "markdown",
      "id": "24a0b919",
      "metadata": {
        "id": "24a0b919"
      },
      "source": [
        "### Violin Plot"
      ]
    },
    {
      "cell_type": "code",
      "execution_count": null,
      "id": "557a6bac",
      "metadata": {
        "id": "557a6bac"
      },
      "outputs": [],
      "source": [
        "#Violin plots are similar to box plots, except that they also show the probability density of the data at different values.\n",
        "#These plots include a marker for the median of the data and a box indicating the interquartile range, as in the standard\n",
        "#box plots."
      ]
    },
    {
      "cell_type": "code",
      "source": [
        "sns.violinplot(data=tips_df,x='day',y='total_bill',hue='sex',split=True)"
      ],
      "metadata": {
        "id": "s4-iY5QiPLZ0"
      },
      "id": "s4-iY5QiPLZ0",
      "execution_count": null,
      "outputs": []
    },
    {
      "cell_type": "markdown",
      "id": "cae0034a",
      "metadata": {
        "id": "cae0034a"
      },
      "source": [
        "### Strip Plot"
      ]
    },
    {
      "cell_type": "code",
      "execution_count": null,
      "id": "925407a7",
      "metadata": {
        "id": "925407a7"
      },
      "outputs": [],
      "source": [
        "#A strip plot is very simple to understand. It is basically a scatter plot that differentiates different categories.\n",
        "#So, all the data that corresponds to each category is shown as a scatter plot, and all the observations and collected\n",
        "#data that are visualized are shown,side-by-side on a single graph."
      ]
    },
    {
      "cell_type": "code",
      "source": [
        "plt.figure(figsize=(8,5))\n",
        "sns.stripplot(x='day',y='total_bill',data=tips_df,jitter=True, hue='sex',dodge=True)\n"
      ],
      "metadata": {
        "id": "7cCblRwXPRWf"
      },
      "id": "7cCblRwXPRWf",
      "execution_count": null,
      "outputs": []
    },
    {
      "cell_type": "code",
      "source": [
        "sns.boxplot(data=tips_df,x='day',y='total_bill',hue='sex',whis=np.inf)\n",
        "sns.stripplot(x='day',y='total_bill',data=tips_df,jitter=True,hue='sex' ,dodge=True)"
      ],
      "metadata": {
        "id": "8ijCCIGqUxxC"
      },
      "id": "8ijCCIGqUxxC",
      "execution_count": null,
      "outputs": []
    },
    {
      "cell_type": "markdown",
      "id": "db44ec3f",
      "metadata": {
        "id": "db44ec3f"
      },
      "source": [
        "### Swarm Plot"
      ]
    },
    {
      "cell_type": "code",
      "execution_count": null,
      "id": "d8bf9af6",
      "metadata": {
        "id": "d8bf9af6"
      },
      "outputs": [],
      "source": [
        "#Swarm plots, or beeswarm plots, are scatter plots that display continuous data over categorical data.\n",
        "#They extend on strip plots by adding more separation between data points."
      ]
    },
    {
      "cell_type": "code",
      "source": [
        "#sns.violinplot(data=tips_df,x='day',y='total_bill')\n",
        "sns.swarmplot(data=tips_df,x='day',y='total_bill')"
      ],
      "metadata": {
        "id": "WCam8hc4PaEd"
      },
      "id": "WCam8hc4PaEd",
      "execution_count": null,
      "outputs": []
    },
    {
      "cell_type": "markdown",
      "id": "a1cfbc8d",
      "metadata": {
        "id": "a1cfbc8d"
      },
      "source": [
        "### Palette"
      ]
    },
    {
      "cell_type": "code",
      "execution_count": null,
      "id": "1da57561",
      "metadata": {
        "id": "1da57561"
      },
      "outputs": [],
      "source": [
        "#palette can be used to give colors to plots and adding more aesthetic value to it."
      ]
    },
    {
      "cell_type": "code",
      "source": [
        "plt.figure(figsize=(8,8))\n",
        "sns.set_style('darkgrid')\n",
        "\n",
        "sns.stripplot(x='day',y='total_bill',data=tips_df,hue='sex',size=10, palette='magma')\n",
        "#https://matplotlib.org/stable/gallery/color/colormap_reference.html\n",
        "# upper right: 1, upper left: 2, lower left: 3, lower right: 4,\n",
        "plt.legend(loc=3)"
      ],
      "metadata": {
        "id": "MVjTdEKaPpA6"
      },
      "id": "MVjTdEKaPpA6",
      "execution_count": null,
      "outputs": []
    },
    {
      "cell_type": "markdown",
      "id": "25493da6",
      "metadata": {
        "id": "25493da6"
      },
      "source": [
        "## Matrix Plots"
      ]
    },
    {
      "cell_type": "code",
      "execution_count": null,
      "id": "2c665633",
      "metadata": {
        "id": "2c665633"
      },
      "outputs": [],
      "source": [
        "#A matrix plot is a color-coded figure with values, data in the rows, and data in the columns.\n",
        "#You can create matrix plots in seaborn by using either heatmap() or clustermap() functions"
      ]
    },
    {
      "cell_type": "markdown",
      "id": "72826b67",
      "metadata": {
        "id": "72826b67"
      },
      "source": [
        "# Heat Map"
      ]
    },
    {
      "cell_type": "code",
      "execution_count": null,
      "id": "5687a084",
      "metadata": {
        "id": "5687a084"
      },
      "outputs": [],
      "source": [
        "#A heatmap is a two-dimensional graphical representation of data where the individual values that are contained\n",
        "#in a matrix are represented as colours."
      ]
    },
    {
      "cell_type": "code",
      "source": [
        "plt.figure(figsize=(8,6))\n",
        "sns.set_context('paper',font_scale=1.4)#set_context()is used to set the parameters that control the scaling of plot elements\n",
        "\n",
        "crash_mx = crash_df.corr()\n",
        "#crash_mx\n",
        "sns.heatmap(crash_mx, annot=True,cmap='Reds')"
      ],
      "metadata": {
        "id": "GwXY68oKPyKM"
      },
      "id": "GwXY68oKPyKM",
      "execution_count": null,
      "outputs": []
    },
    {
      "cell_type": "code",
      "source": [
        "plt.figure(figsize=(8,6))\n",
        "\n",
        "flights = sns.load_dataset('flights')\n",
        "\n",
        "flights = flights.pivot_table(index = 'month', columns= 'year', values= 'passengers')\n",
        "#flights\n",
        "#sns.heatmap(flights, cmap = 'Blues')\n",
        "sns.heatmap(flights, cmap = 'Blues',linecolor='White', linewidth=1)\n"
      ],
      "metadata": {
        "id": "VbqNNfVmQA2t"
      },
      "id": "VbqNNfVmQA2t",
      "execution_count": null,
      "outputs": []
    },
    {
      "cell_type": "markdown",
      "id": "1b21dff7",
      "metadata": {
        "id": "1b21dff7"
      },
      "source": [
        "### Cluster Map"
      ]
    },
    {
      "cell_type": "code",
      "execution_count": null,
      "id": "3440a5d9",
      "metadata": {
        "id": "3440a5d9"
      },
      "outputs": [],
      "source": [
        "#A cluster map is an interactive map that is useful when too many data points are plotted way too close to each other\n",
        "#that determining the variation and drawing the conclusion from the given data becomes difficult."
      ]
    },
    {
      "cell_type": "code",
      "source": [
        "sns.clustermap(flights,cmap='Blues',standard_scale=1)"
      ],
      "metadata": {
        "id": "yLnFLTo-QQtO"
      },
      "id": "yLnFLTo-QQtO",
      "execution_count": null,
      "outputs": []
    },
    {
      "cell_type": "markdown",
      "id": "63390955",
      "metadata": {
        "id": "63390955"
      },
      "source": [
        "### FacetGrid"
      ]
    },
    {
      "cell_type": "code",
      "execution_count": null,
      "id": "cd884fa3",
      "metadata": {
        "id": "cd884fa3"
      },
      "outputs": [],
      "source": [
        "#This allows us to create a grid, on which we can map many other types of plots with minimal code,\n",
        "#especially compared to using matplotlib."
      ]
    },
    {
      "cell_type": "code",
      "source": [
        "# Form a facetgrid using columns with a hue\n",
        "#tips_fg=sns.FacetGrid(tips_df,col='time', row= 'smoker')\n",
        "tips_fg=sns.FacetGrid(tips_df,col='time', hue='smoker',height=5, aspect=1.5)\n",
        "\n",
        "# map the above form facetgrid with some attributes\n",
        "#tips_fg.map(plt.hist,'total_bill',bins=8)\n",
        "tips_fg.map(plt.scatter,'total_bill','tip')"
      ],
      "metadata": {
        "id": "J_Apm7n_QXtL"
      },
      "id": "J_Apm7n_QXtL",
      "execution_count": null,
      "outputs": []
    },
    {
      "cell_type": "markdown",
      "id": "bcecb789",
      "metadata": {
        "id": "bcecb789"
      },
      "source": [
        "### Regression Plot"
      ]
    },
    {
      "cell_type": "code",
      "execution_count": null,
      "id": "f3ba7eb6",
      "metadata": {
        "id": "f3ba7eb6"
      },
      "outputs": [],
      "source": [
        "#The lineplot (lmplot) is one of the most basic plots. It shows a line on a 2 dimensional plane.\n",
        "#You can plot it with seaborn or matlotlib depending on your preference."
      ]
    },
    {
      "cell_type": "code",
      "source": [
        "sns.lmplot(x='total_bill', y='tip', col='sex', row='time', data=tips_df)"
      ],
      "metadata": {
        "id": "jeaAubNhQea3"
      },
      "id": "jeaAubNhQea3",
      "execution_count": null,
      "outputs": []
    },
    {
      "cell_type": "code",
      "execution_count": null,
      "id": "f4fc8d9a",
      "metadata": {
        "id": "f4fc8d9a"
      },
      "outputs": [],
      "source": [
        "# https://seaborn.pydata.org/tutorial/introduction"
      ]
    },
    {
      "cell_type": "code",
      "execution_count": null,
      "id": "7f33205f",
      "metadata": {
        "id": "7f33205f"
      },
      "outputs": [],
      "source": []
    }
  ],
  "metadata": {
    "kernelspec": {
      "display_name": "Python 3 (ipykernel)",
      "language": "python",
      "name": "python3"
    },
    "language_info": {
      "codemirror_mode": {
        "name": "ipython",
        "version": 3
      },
      "file_extension": ".py",
      "mimetype": "text/x-python",
      "name": "python",
      "nbconvert_exporter": "python",
      "pygments_lexer": "ipython3",
      "version": "3.9.13"
    },
    "colab": {
      "provenance": [],
      "include_colab_link": true
    }
  },
  "nbformat": 4,
  "nbformat_minor": 5
}